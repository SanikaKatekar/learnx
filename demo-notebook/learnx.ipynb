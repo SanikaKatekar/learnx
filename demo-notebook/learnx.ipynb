{
 "cells": [
  {
   "cell_type": "markdown",
   "id": "6e674cd2",
   "metadata": {},
   "source": [
    "# LearnX: Personalized Learning Plans with Metaphor API"
   ]
  },
  {
   "cell_type": "markdown",
   "id": "75752e87",
   "metadata": {},
   "source": [
    "LearnX is a project that addresses a critical challenge in education: keeping pace with the ever-evolving world of knowledge. In an era where Large Language Models (LLMs) like ChatGPT are changing how we learn, the LearnX project leverages the Metaphor API to create a dynamic learning platform. This platform offers personalized learning/study plans, ensuring users stay current with the latest developments without the hassle of resource hunting. LearnX excels in providing structured learning plans, filling the gap where users often struggle to find a well-organized study path amidst the vast sea of information available on the internet. Harnessing the latest LLMs using LangChain and Metaphor API technologies, LearnX is the key to efficient and structured learning."
   ]
  },
  {
   "cell_type": "code",
   "execution_count": 1,
   "id": "9ad6050b",
   "metadata": {},
   "outputs": [],
   "source": [
    "# Import necessary libraries\n",
    "import re\n",
    "import ast\n",
    "from typing import List\n",
    "from pprint import pprint\n",
    "from bs4 import BeautifulSoup\n",
    "from pydantic import BaseModel\n",
    "from metaphor_python import Metaphor\n",
    "from langchain.chat_models import ChatOpenAI\n",
    "from langchain.prompts import ChatPromptTemplate"
   ]
  },
  {
   "cell_type": "markdown",
   "id": "68b92776",
   "metadata": {},
   "source": [
    "## Helper Functions"
   ]
  },
  {
   "cell_type": "markdown",
   "id": "c20582b8",
   "metadata": {},
   "source": [
    "### Using Metaphor API to create knowledge base\n",
    "\n",
    "This part consists of four main functionalities:\n",
    "\n",
    "**Step 1:** Getting the relevant links of the topic that the user chose from the internet using Metaphor API `search` functionality.\n",
    "\n",
    "**Step 2:** Using the Metaphor API `get_contents` functionality to retrieve information from the links.\n",
    "\n",
    "**Step 3:** Extracting pure text and removing HTML from the information gathered in Step 2.\n",
    "\n",
    "**Step 4:** Creating the knowledge base by keeping only the 'extract' elements.\n"
   ]
  },
  {
   "cell_type": "code",
   "execution_count": 2,
   "id": "0b204e8f",
   "metadata": {},
   "outputs": [],
   "source": [
    "# Using the Metaphor API Search functionality to get links about a certain topic\n",
    "def get_topic_links(topic,level):\n",
    "    # Define  query \n",
    "    query = f\"Latest articles on for learning {topic} for {level} level.\"\n",
    "    # Send a search request to the Metaphor API\n",
    "    search_response = metaphor.search(\n",
    "        query=query,\n",
    "        num_results=5,  #  can adjust the number of results as needed\n",
    "        use_autoprompt = True\n",
    "    )\n",
    "    return search_response\n",
    "\n",
    "# Using the Metaphor API get_contents functionality to get the information from the links\n",
    "def get_content_for_topic(response):\n",
    "    content_response_list = []\n",
    "    if response.results:\n",
    "        for result in response.results:\n",
    "            # Get the HTML content for the URL\n",
    "            content_response = metaphor.get_contents([result.id])\n",
    "            content_response_list.append(content_response)\n",
    "        print(\"Content retrieved and stored.\")\n",
    "    else:\n",
    "        print(\"No content found for this topic.\")\n",
    "        print()  # Add an empty line for readability\n",
    "    return content_response_list\n",
    "\n",
    "# Function to extract text from HTML and update 'Extract' key\n",
    "def extract_text_from_html(content_response_list):\n",
    "    for item in content_response_list:\n",
    "        try:\n",
    "            # Access the 'extract' attribute within the 'DocumentContent' object\n",
    "            html = item.contents[0].extract\n",
    "            soup = BeautifulSoup(html, 'html.parser')\n",
    "            item.contents[0].extract = soup.get_text()  # Update the 'extract' attribute\n",
    "        except Exception as e:\n",
    "            print(f\"An error occurred: {str(e)}\")\n",
    "   \n",
    "    return content_response_list\n",
    "\n",
    "# Function to create one knowledge base from the gathered information\n",
    "def create_knowledge_base(content_response_list):\n",
    "    knowledge_base = \"\"\n",
    "    for contents in content_response_list:\n",
    "        knowledge_base += str(contents.contents[0].extract) # keep only the contents from the 'extract' key\n",
    "    return knowledge_base\n",
    "\n",
    "# Function to wrap everything together and get the final knowledge base\n",
    "def get_knowledge_base(topic, level):\n",
    "    # Use Metaphor API's Search to get latest article links\n",
    "    response = get_topic_links(topic, level)\n",
    "    # Get contents from the links by using Metaphor API's get_content()\n",
    "    content_response_list = get_content_for_topic(response)\n",
    "    # Extract text from HTML \n",
    "    content_response_list = extract_text_from_html(content_response_list)\n",
    "    # Create a final knowledge base \n",
    "    knowledge_base = create_knowledge_base(content_response_list)\n",
    "    return knowledge_base"
   ]
  },
  {
   "cell_type": "markdown",
   "id": "09b40966",
   "metadata": {},
   "source": [
    "### Get a structured study/learning plan from LLM\n",
    "\n",
    "\n",
    "This part consists of two functionalities:\n",
    "\n",
    "**Step 1:** Generating a personalized study plan with chapters and sub-topics using LLM. The LLM takes in the knowledge base, and user inputs like topic and experience level.\n",
    "\n",
    "**Step 2:** Using the LLM to create a dictionary of the generated study plan."
   ]
  },
  {
   "cell_type": "code",
   "execution_count": 3,
   "id": "548f047c",
   "metadata": {},
   "outputs": [],
   "source": [
    "# function to generate learning plan or study plan\n",
    "def generate_learning_plan(topic, level, knowledge_base):\n",
    "    #Create a template string for the prompt to be sent to LLM\n",
    "    template_string = \"\"\"\n",
    "    Task: Generate a Structured Study/Learning Plan.\n",
    "\n",
    "    Objective: Create a structured study/learning plan for a specified topic, taking into account the user's study level. This should be designed to assist users in planning their study approach efficiently.\n",
    "\n",
    "    Instructions:\n",
    "    Use the below user information to create the plan for the user. Assume the user has access to information in the form of web articles.\n",
    "    1. {topic}: The topic for which the user needs a study plan.\n",
    "    2. {level}: Whether the user is a beginner, amateur, or advanced in this subject matter.\n",
    "\n",
    "    Output Response Template:\n",
    "    1. Chapter 1: Introduction to [topic]\n",
    "       - Subtopics or concepts to cover:\n",
    "         - [Subtopic 1]\n",
    "         - [Subtopic 2]\n",
    "         - [Subtopic 3]\n",
    "    2. Chapter 2:\n",
    "       - Subtopics or concepts to cover:\n",
    "         - [Subtopic 4]\n",
    "         - [Subtopic 5]\n",
    "    3. Chapter 3:\n",
    "       - Subtopics or concepts to cover:\n",
    "         - [Subtopic 6]\n",
    "         - [Subtopic 7]\n",
    "         \n",
    "    Important Note: Continue this structure for the entire study plan, extending for further chapters. Please generate the structured learning plan directly without additional questions. Ensure that the output response includes a structured learning plan tailored to the user's study level. Use the provided output response template as a guideline for consistency.\n",
    "\n",
    "    Feel free to use the provided topic information below to make a detailed and curated study/learning plan:\n",
    "    Topic Information: ```{text}```\n",
    "    \"\"\"\n",
    "    #Create prompt\n",
    "    prompt_template = ChatPromptTemplate.from_template(template_string)\n",
    "    prompt_messages = prompt_template.format_messages(\n",
    "                        topic=topic,\n",
    "                        level=level,\n",
    "                        text=knowledge_base)\n",
    "    # Call the LLM \n",
    "    llm_response = model(prompt_messages)\n",
    "    return llm_response\n",
    "\n",
    "#Function to create dictionary of the learning plan from the LLM's response. \n",
    "def create_dictionary_from_string(input_string):\n",
    "    #prompt string\n",
    "    template_string_for_json = \"\"\"\n",
    "    From the given string create a dictionary of chapters as key and the list of subtopics as value.\n",
    "    STRING: {string}\n",
    "    \"\"\"\n",
    "    #prompt template\n",
    "    prompt_template_for_json = ChatPromptTemplate.from_template(template_string_for_json)\n",
    "    prompt_messages_for_json = prompt_template_for_json.format_messages(string=input_string)\n",
    "    # Call the LLM \n",
    "    llm_response = model(prompt_messages_for_json)\n",
    "    return llm_response\n",
    "\n",
    "#Function to extract dictionary from string.\n",
    "def extract_dictionary_from_content(content):\n",
    "    # Use regular expression to find the dictionary portion\n",
    "    pattern = r'{[^{}]*}'\n",
    "    # Find the matching dictionary using regex\n",
    "    match = re.search(pattern, content)\n",
    "    if match:\n",
    "        # Extract the matched dictionary string\n",
    "        dictionary_str = match.group(0)\n",
    "        try:\n",
    "            # Convert the dictionary string to a Python dictionary using `ast.literal_eval()`\n",
    "            dictionary = ast.literal_eval(dictionary_str)\n",
    "            return dictionary\n",
    "        except Exception as e:\n",
    "            print(f\"Error converting dictionary string to Python dictionary: {e}\")\n",
    "            return None\n",
    "    else:\n",
    "        print(\"No dictionary found in the input string.\")\n",
    "        return None\n",
    "    \n",
    "# Function to wrap everything together and get the final learning plan in the form of a dictionary from the LLMs\n",
    "def get_learning_plan(topic, level, knowledge_base):\n",
    "    # get study plan as a string from the llm\n",
    "    llm_response = generate_learning_plan(topic, level, knowledge_base)\n",
    "    # create a dictionary of the plan. \n",
    "    llm_dict = create_dictionary_from_string(llm_response.content) #although the llm converts the plan in the form of a dictionary here, it is still a string.\n",
    "    # convert the string into dictionary type\n",
    "    final_dict = extract_dictionary_from_content(llm_dict.content)\n",
    "    return final_dict"
   ]
  },
  {
   "cell_type": "markdown",
   "id": "685d2737",
   "metadata": {},
   "source": [
    "### Using Metaphor API to get resources and links for the study plan chapters and sub chapters \n",
    "\n",
    "Next, the dictionary of corresponding chapters and sub-topics created above is populated with links to resources from the web. Metaphor API's search method is used for this."
   ]
  },
  {
   "cell_type": "code",
   "execution_count": 4,
   "id": "a12e24a5",
   "metadata": {},
   "outputs": [],
   "source": [
    "# Function to search for links related to a subtopic using Metaphor API\n",
    "def search_links_for_subtopic(subtopic):\n",
    "    # Make a search API call for the subtopic and get 3 links, keyword search\n",
    "    search_result = metaphor.search(subtopic, num_results=3)  # You can adjust the number of results as needed\n",
    "    # Extract and return the links as a list\n",
    "    return [result.url for result in search_result.results]\n",
    "\n",
    "# Function to populate the dictionary with links for each chapter and subtopic\n",
    "def populate_links_dictionary(resulting_dictionary):\n",
    "    new_resulting_dictionary = {}\n",
    "    # Get three links for each sub-topic in each chapter\n",
    "    for chapter, subtopics in resulting_dictionary.items():\n",
    "        subtopic_links = {}\n",
    "        for subtopic in subtopics:\n",
    "            links = search_links_for_subtopic(subtopic)\n",
    "            subtopic_links[subtopic] = links\n",
    "        #append to the dictionary\n",
    "        new_resulting_dictionary[chapter] = subtopic_links\n",
    "    return new_resulting_dictionary"
   ]
  },
  {
   "cell_type": "markdown",
   "id": "b148af3d",
   "metadata": {},
   "source": [
    "### Custom quiz generator helper functions\n",
    "\n",
    "This is the final phase of the project. For this phase, an LLM is used to generate a quiz based on the knowledge base created."
   ]
  },
  {
   "cell_type": "code",
   "execution_count": 5,
   "id": "396cd753",
   "metadata": {},
   "outputs": [],
   "source": [
    "# Function to generate the quiz\n",
    "def generate_quiz(topic, final_dict, knowledge_base):\n",
    "    template_string_for_quiz = \"\"\"Generate a quiz on {topic} with 10-15 multiple choice questions (3-4 answer options). You can use the following topic information and study/learning plan:\n",
    "    topic information:\n",
    "    {knowledge_base}\n",
    "\n",
    "    Study/Learning Plan:\n",
    "    {learning_plan}\n",
    "\n",
    "    Important Note: The quiz should roughly evaluate the study/learning plan. Also give the correct answer key for the quiz at the end.\n",
    "    \"\"\"\n",
    "    #Create a prompt template for the LLM\n",
    "    prompt_template_for_quiz = ChatPromptTemplate.from_template(template_string_for_quiz)\n",
    "    prompt_messages_for_quiz = prompt_template_for_quiz.format_messages(\n",
    "                    topic = topic,\n",
    "                    learning_plan = final_dict,\n",
    "                    knowledge_base = knowledge_base)\n",
    "    quiz_response = model(prompt_messages_for_quiz)\n",
    "    return quiz_response"
   ]
  },
  {
   "cell_type": "markdown",
   "id": "feff3ef8",
   "metadata": {},
   "source": [
    "### Display helper functions\n",
    "\n",
    "These are helper functions to display the dictionaries formed in a neat and clean manner."
   ]
  },
  {
   "cell_type": "code",
   "execution_count": 6,
   "id": "57d1f1e0",
   "metadata": {},
   "outputs": [],
   "source": [
    "# Function to display the list of links extracted using Metaphor API for the knowledge base\n",
    "def display_list_resource(response):\n",
    "    if response.results:\n",
    "        for result in response.results:\n",
    "            print(f\"Title: {result.title}\")\n",
    "            print(f\"URL: {result.url}\")\n",
    "            print()  # Add an empty line for readability\n",
    "    else:\n",
    "        print(\"No relevant articles found found.\")\n",
    "        \n",
    "# Function to print the final resulting dictionary\n",
    "def print_resulting_dictionary(resulting_dictionary):\n",
    "    for chapter, subtopics in resulting_dictionary.items():\n",
    "        print(f\"Chapter: {chapter}\")\n",
    "        for subtopic, links in subtopics.items():\n",
    "            print(f\"    Subtopic: {subtopic}\")\n",
    "            for idx, link in enumerate(links, start=1):\n",
    "                print(f\"        Link {idx}: {link}\")\n",
    "        print()\n",
    "        print()\n",
    "\n",
    "    return        "
   ]
  },
  {
   "cell_type": "markdown",
   "id": "87f12bbe",
   "metadata": {},
   "source": [
    "## Main Functionality "
   ]
  },
  {
   "cell_type": "markdown",
   "id": "b3f8a5c2",
   "metadata": {},
   "source": [
    "### Get User Input"
   ]
  },
  {
   "cell_type": "code",
   "execution_count": 7,
   "id": "4474da95",
   "metadata": {},
   "outputs": [],
   "source": [
    "# User input\n",
    "topic = \"Amazon Simple Queue Service\" # The topic the user wants to learn\n",
    "level = \"beginner\" # Beginner/Intermediate/Advanced"
   ]
  },
  {
   "cell_type": "code",
   "execution_count": 8,
   "id": "3c7899be",
   "metadata": {},
   "outputs": [],
   "source": [
    "# ### Set API Key\n",
    "api_key = \"YOUR-METAPHOR-API-KEY\"\n",
    "metaphor = Metaphor(api_key)\n",
    "\n",
    "## OpenAI API\n",
    "openai_api_key = \"YOUR-OPENAI-API-KEY\"\n",
    "model = ChatOpenAI(openai_api_key=openai_api_key)"
   ]
  },
  {
   "cell_type": "markdown",
   "id": "8e6eaeca",
   "metadata": {},
   "source": [
    "### Creating the knowledge base using Metaphor API functions"
   ]
  },
  {
   "cell_type": "code",
   "execution_count": 9,
   "id": "cd319e68",
   "metadata": {},
   "outputs": [
    {
     "name": "stdout",
     "output_type": "stream",
     "text": [
      "Content retrieved and stored.\n"
     ]
    }
   ],
   "source": [
    "knowledge_base = get_knowledge_base(topic, level)"
   ]
  },
  {
   "cell_type": "markdown",
   "id": "aab0e456",
   "metadata": {},
   "source": [
    "### Using the LLM to generate a personalized learning plan/study plan"
   ]
  },
  {
   "cell_type": "code",
   "execution_count": 10,
   "id": "4c6a196f",
   "metadata": {},
   "outputs": [],
   "source": [
    "final_dict = get_learning_plan(topic, level, knowledge_base)"
   ]
  },
  {
   "cell_type": "markdown",
   "id": "41070eaf",
   "metadata": {},
   "source": [
    "### Using Metaphor API to get links and resources for the topics in the generated learning path"
   ]
  },
  {
   "cell_type": "code",
   "execution_count": 11,
   "id": "692fdd5e",
   "metadata": {
    "scrolled": false
   },
   "outputs": [
    {
     "name": "stdout",
     "output_type": "stream",
     "text": [
      "Chapter: Chapter 1\n",
      "    Subtopic: Overview of Amazon SQS\n",
      "        Link 1: https://docs.aws.amazon.com/AWSSimpleQueueService/latest/SQSDeveloperGuide/welcome.html\n",
      "        Link 2: https://aws.amazon.com/pub-sub-messaging/\n",
      "        Link 3: https://aws.amazon.com/sqs/getting-started/\n",
      "    Subtopic: Benefits and use cases of Amazon SQS\n",
      "        Link 1: https://aws.amazon.com/sqs/\n",
      "        Link 2: https://aws.amazon.com/message-queue/\n",
      "        Link 3: https://aws.amazon.com/pt/sqs/\n",
      "    Subtopic: Comparison with other AWS messaging services (Amazon SNS, Amazon MQ, Amazon Kinesis Streams)\n",
      "        Link 1: https://bitesizedserverless.com/bite/serverless-messaging-latency-compared\n",
      "        Link 2: https://www.amazonaws.cn/en/sqs/\n",
      "        Link 3: https://docs.aws.amazon.com/sns/latest/dg/sns-event-sources.html\n",
      "    Subtopic: Cost model of AWS SQS\n",
      "        Link 1: https://aws.amazon.com/sqs/pricing/?nc1=h_ls\n",
      "        Link 2: https://aws.amazon.com/sns/pricing/\n",
      "        Link 3: https://aws.amazon.com/sqs/\n",
      "\n",
      "\n",
      "Chapter: Chapter 2\n",
      "    Subtopic: Creating an Amazon SQS Queue\n",
      "        Link 1: https://aws.amazon.com/sqs/\n",
      "        Link 2: https://aws.amazon.com/message-queue/\n",
      "        Link 3: https://www.amazonaws.cn/en/sqs/\n",
      "    Subtopic: Sending Messages to the Queue\n",
      "        Link 1: https://sendbird.com/docs/glossary\n",
      "        Link 2: https://wiki.smartsimple.com/wiki/Message_Queue\n",
      "        Link 3: https://docs.servicestack.net/background-mq\n",
      "    Subtopic: Retrieving and Deleting Messages\n",
      "        Link 1: https://www.geeky-gadgets.com/delete-messages-from-messenger-20-01-2023/\n",
      "        Link 2: https://www.iphonefaq.org/archives/messages\n",
      "        Link 3: https://www.usatoday.com/story/tech/2022/10/28/recover-deleted-text-messages/10017415002/\n",
      "    Subtopic: Configuring Queue Settings (e.g., retention period, maximum message size, delivery delays)\n",
      "        Link 1: https://www.rabbitmq.com/configure.html\n",
      "        Link 2: https://docs.mulesoft.com/cloudhub-1/deploying-to-cloudhub\n",
      "        Link 3: https://docs.amazonaws.cn/en_us/AWSSimpleQueueService/latest/SQSDeveloperGuide/sqs-quotas.html\n",
      "    Subtopic: Understanding message ordering and delivery guarantees (Standard queues vs. FIFO queues)\n",
      "        Link 1: https://sudhir.io/the-big-little-guide-to-message-queues\n",
      "        Link 2: https://sookocheff.com/post/messaging/dissecting-sqs-fifo-queues/\n",
      "        Link 3: https://docs.aws.amazon.com/AWSSimpleQueueService/latest/SQSDeveloperGuide/FIFO-queues-understanding-logic.html\n",
      "    Subtopic: Best practices for using Amazon SQS\n",
      "        Link 1: https://docs.aws.amazon.com/AWSSimpleQueueService/latest/SQSDeveloperGuide/sqs-best-practices.html\n",
      "        Link 2: https://aws.amazon.com/sqs/faqs/\n",
      "        Link 3: https://www.amazonaws.cn/en/sqs/\n",
      "\n",
      "\n",
      "Chapter: Chapter 3\n",
      "    Subtopic: Working with message attributes and message metadata\n",
      "        Link 1: https://api.slack.com/metadata\n",
      "        Link 2: https://api.slack.com/reference/messaging/payload\n",
      "        Link 3: https://masstransit.io/documentation/concepts/messages\n",
      "    Subtopic: Handling errors and retries in message processing\n",
      "        Link 1: https://yehudacohen.substack.com/p/organizing-and-integrating-distributed\n",
      "        Link 2: https://docs.aws.amazon.com/wellarchitected/latest/serverless-applications-lens/failure-management.html\n",
      "        Link 3: https://temporal.io/blog/dealing-with-failure\n",
      "    Subtopic: Scaling and optimizing Amazon SQS for high throughput\n",
      "        Link 1: https://aws.amazon.com/sqs/\n",
      "        Link 2: https://aws.amazon.com/blogs/aws/scaling-with-amazon-sqs/\n",
      "        Link 3: https://aws.amazon.com/sqs/features/\n",
      "    Subtopic: Integrating Amazon SQS with other AWS services (e.g., AWS Lambda, Amazon S3)\n",
      "        Link 1: https://aws.amazon.com/blogs/architecture/queue-integration-with-third-party-services-on-aws/\n",
      "        Link 2: https://aws.amazon.com/blogs/compute/building-resilient-no-code-serverless-patterns-by-combining-messaging-services/\n",
      "        Link 3: https://aws.amazon.com/blogs/compute/choosing-between-messaging-services-for-serverless-applications/\n",
      "    Subtopic: Security and access control in Amazon SQS\n",
      "        Link 1: https://docs.aws.amazon.com/AWSSimpleQueueService/latest/SQSDeveloperGuide/sqs-security-best-practices.html\n",
      "        Link 2: https://docs.aws.amazon.com/AWSSimpleQueueService/latest/SQSDeveloperGuide/sqs-security.html\n",
      "        Link 3: https://docs.aws.amazon.com/AWSSimpleQueueService/latest/SQSDeveloperGuide/sqs-security.html?sc_channel=sm&sc_campaign=Organic_Follow&sc_publisher=TWITTER&sc_country=Global&sc_geo=GLOBAL&sc_outcome=adoption&trk=_TWITTER&sc_content=sqs_social&sc_category=Amazon_Simple_Queue_Service&linkId=43301956\n",
      "    Subtopic: Monitoring and troubleshooting Amazon SQS queues\n",
      "        Link 1: https://aws.amazon.com/sqs/\n",
      "        Link 2: https://docs.aws.amazon.com/AWSSimpleQueueService/latest/SQSDeveloperGuide/sqs-automating-troubleshooting.html\n",
      "        Link 3: https://docs.aws.amazon.com/AWSSimpleQueueService/latest/SQSDeveloperGuide/welcome.html\n",
      "\n",
      "\n",
      "Chapter: Chapter 4\n",
      "    Subtopic: Using Amazon SQS for asynchronous messaging in distributed applications\n",
      "        Link 1: https://aws.amazon.com/sqs/\n",
      "        Link 2: https://aws.amazon.com/blogs/aws/scaling-with-amazon-sqs/\n",
      "        Link 3: https://aws.amazon.com/message-queue/benefits/\n",
      "    Subtopic: Building scalable and reliable EC2 applications with Amazon SQS\n",
      "        Link 1: https://aws.amazon.com/sqs/\n",
      "        Link 2: https://aws.amazon.com/message-queue/\n",
      "        Link 3: https://aws.amazon.com/es/sqs/\n",
      "    Subtopic: Implementing event-driven architectures with Amazon SQS and Amazon SNS\n",
      "        Link 1: https://aws.amazon.com/blogs/architecture/lets-architect-designing-event-driven-architectures/\n",
      "        Link 2: https://aws.amazon.com/event-driven-architecture/\n",
      "        Link 3: https://aws.amazon.com/pub-sub-messaging/\n",
      "    Subtopic: Case studies of organizations (e.g., NASA, BMW) using Amazon SQS and Amazon SNS\n",
      "        Link 1: https://aws.amazon.com/lambda/resources/customer-case-studies/\n",
      "        Link 2: https://aws.amazon.com/blogs/architecture/coordinating-large-messages-across-accounts-and-regions-with-amazon-sns-and-sqs/\n",
      "        Link 3: https://www.slideshare.net/AmazonWebServices/mbl307-how-mobile-businesses-and-enterprises-use-amazon-sns\n",
      "\n",
      "\n",
      "Chapter: Chapter 5\n",
      "    Subtopic: White papers and documentation for Amazon SQS\n",
      "        Link 1: https://aws.amazon.com/sqs/\n",
      "        Link 2: https://aws.amazon.com/documentation-overview/sqs/\n",
      "        Link 3: https://www.amazonaws.cn/en/sqs/\n",
      "    Subtopic: Video tutorials and webinars on Amazon SQS\n",
      "        Link 1: https://aws.amazon.com/sqs/resources/\n",
      "        Link 2: https://aws.amazon.com/sqs/\n",
      "        Link 3: https://aws.amazon.com/messaging/twitch/\n",
      "    Subtopic: AWS support and community resources for Amazon SQS\n",
      "        Link 1: https://aws.amazon.com/sqs/\n",
      "        Link 2: https://www.amazonaws.cn/en/sqs/\n",
      "        Link 3: https://aws.amazon.com/sqs/faqs/\n",
      "    Subtopic: Exploring related AWS services and integration possibilities\n",
      "        Link 1: https://aws.amazon.com/products/application-integration/\n",
      "        Link 2: https://docs.aws.amazon.com/whitepapers/latest/aws-overview/application-integration.html\n",
      "        Link 3: https://aws.amazon.com/eventbridge/integrations/\n",
      "\n",
      "\n"
     ]
    }
   ],
   "source": [
    "new_resulting_dictionary = populate_links_dictionary(final_dict)\n",
    "print_resulting_dictionary(new_resulting_dictionary)"
   ]
  },
  {
   "cell_type": "markdown",
   "id": "4d0081ec",
   "metadata": {},
   "source": [
    "### Generate a customized quiz on the topic as final assesment"
   ]
  },
  {
   "cell_type": "code",
   "execution_count": 12,
   "id": "314a585e",
   "metadata": {},
   "outputs": [
    {
     "name": "stderr",
     "output_type": "stream",
     "text": [
      "Retrying langchain.chat_models.openai.ChatOpenAI.completion_with_retry.<locals>._completion_with_retry in 4.0 seconds as it raised ServiceUnavailableError: The server is overloaded or not ready yet..\n"
     ]
    },
    {
     "name": "stdout",
     "output_type": "stream",
     "text": [
      "1. What is the purpose of Amazon Simple Queue Service (SQS)?\n",
      "a) To send time-critical messages to multiple subscribers\n",
      "b) To store and move data between distributed application components\n",
      "c) To process streaming big data in real-time\n",
      "d) To create scalable and reliable EC2 applications\n",
      "\n",
      "2. How is Amazon SQS different from Amazon SNS?\n",
      "a) Amazon SQS allows for time-critical messaging, while Amazon SNS enables asynchronous messaging.\n",
      "b) Amazon SQS is a message queue service, while Amazon SNS is a message notification service.\n",
      "c) Amazon SQS supports industry-standard APIs and protocols, while Amazon SNS does not.\n",
      "d) Amazon SQS guarantees at-least-once delivery, while Amazon SNS guarantees exactly-once processing.\n",
      "\n",
      "3. Which type of queue should be used if you need absolute guarantees on message order and processing?\n",
      "a) Standard queue\n",
      "b) FIFO queue\n",
      "c) Delay queue\n",
      "d) Priority queue\n",
      "\n",
      "4. What is the cost model of AWS SQS?\n",
      "a) Pay-as-you-go pricing based on message size and number of requests\n",
      "b) Fixed monthly subscription fee\n",
      "c) Free for unlimited usage\n",
      "d) Pay-per-message pricing\n",
      "\n",
      "5. How can you control who can send and receive messages from an SQS queue?\n",
      "a) By configuring the queue's retention period\n",
      "b) By using access control policies\n",
      "c) By setting a default delay on the queue\n",
      "d) By specifying the message size limit\n",
      "\n",
      "6. Which AWS service allows for real-time processing of streaming big data?\n",
      "a) Amazon SQS\n",
      "b) Amazon SNS\n",
      "c) Amazon MQ\n",
      "d) Amazon Kinesis Streams\n",
      "\n",
      "7. What is the purpose of the Photo Uploader service in the tutorial?\n",
      "a) To process photos and generate thumbnails\n",
      "b) To upload photos to a temporary storage location\n",
      "c) To manage the entire photo processing workflow\n",
      "d) To send and receive messages from the SQS queue\n",
      "\n",
      "8. How can you configure the settings of an SQS queue?\n",
      "a) By using the AWS console only\n",
      "b) By using the AWS CLI or SDKs\n",
      "c) By modifying the queue type (Standard vs. FIFO)\n",
      "d) By specifying the message retention period\n",
      "\n",
      "9. What is the maximum message size in SQS?\n",
      "a) 64 bytes\n",
      "b) 64 kilobytes\n",
      "c) 64 megabytes\n",
      "d) 64 gigabytes\n",
      "\n",
      "10. Which organizations are mentioned as users of AWS SQS and SNS?\n",
      "a) NASA and BMW\n",
      "b) Google and Microsoft\n",
      "c) Apple and Amazon\n",
      "d) Facebook and Twitter\n",
      "\n",
      "Answer Key:\n",
      "1. b) To store and move data between distributed application components\n",
      "2. b) Amazon SQS is a message queue service, while Amazon SNS is a message notification service.\n",
      "3. b) FIFO queue\n",
      "4. a) Pay-as-you-go pricing based on message size and number of requests\n",
      "5. b) By using access control policies\n",
      "6. d) Amazon Kinesis Streams\n",
      "7. b) To upload photos to a temporary storage location\n",
      "8. b) By using the AWS CLI or SDKs\n",
      "9. b) 64 kilobytes\n",
      "10. a) NASA and BMW\n"
     ]
    }
   ],
   "source": [
    "llm_quiz_response = generate_quiz(topic, final_dict, knowledge_base)\n",
    "print(llm_quiz_response.content)"
   ]
  },
  {
   "cell_type": "code",
   "execution_count": null,
   "id": "d484c5fb",
   "metadata": {},
   "outputs": [],
   "source": []
  },
  {
   "cell_type": "code",
   "execution_count": null,
   "id": "ad089d34",
   "metadata": {},
   "outputs": [],
   "source": []
  }
 ],
 "metadata": {
  "kernelspec": {
   "display_name": "Python 3 (ipykernel)",
   "language": "python",
   "name": "python3"
  },
  "language_info": {
   "codemirror_mode": {
    "name": "ipython",
    "version": 3
   },
   "file_extension": ".py",
   "mimetype": "text/x-python",
   "name": "python",
   "nbconvert_exporter": "python",
   "pygments_lexer": "ipython3",
   "version": "3.10.8"
  }
 },
 "nbformat": 4,
 "nbformat_minor": 5
}
